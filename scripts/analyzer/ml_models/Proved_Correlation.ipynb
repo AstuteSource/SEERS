{
 "cells": [
  {
   "cell_type": "markdown",
   "id": "54765c4d-f837-42b9-be58-7de7c1672617",
   "metadata": {},
   "source": [
    "#### This Notebook aims to prove the correlation between number of patterns and mutation score"
   ]
  },
  {
   "cell_type": "markdown",
   "id": "d2e73770-1f53-4dfd-bfd2-54ac01f59dfe",
   "metadata": {},
   "source": [
    "Research Question: Does the presence of code patterns in a function statistically correlate with the mutation score for that function?"
   ]
  },
  {
   "cell_type": "code",
   "execution_count": 1,
   "id": "b44e7eec-1354-4ed5-832c-140128305458",
   "metadata": {},
   "outputs": [],
   "source": [
    "import pandas as pd"
   ]
  },
  {
   "cell_type": "code",
   "execution_count": 2,
   "id": "8e4049d8-8a47-4e97-9cbd-af56780593a7",
   "metadata": {},
   "outputs": [],
   "source": [
    "def process_json_file(filepath):\n",
    "    sub_df = pd.read_json(filepath)\n",
    "    sub_df = sub_df.dropna()\n",
    "    sub_df = sub_df[~sub_df['function_name'].str.startswith(\"test_\")]\n",
    "    return sub_df"
   ]
  },
  {
   "cell_type": "code",
   "execution_count": 3,
   "id": "52a3927e-5e67-4892-a0fa-be350aede70f",
   "metadata": {},
   "outputs": [],
   "source": [
    "import os"
   ]
  },
  {
   "cell_type": "code",
   "execution_count": 4,
   "id": "b2fd5fd7-02c7-421d-9f2e-1edcf8f78a77",
   "metadata": {},
   "outputs": [],
   "source": [
    "dataframes = []\n",
    "folder_path = \"../json_analysis\"\n",
    "\n",
    "for filename in os.listdir(folder_path):\n",
    "    if filename.endswith(\"json\"):\n",
    "        filepath = os.path.join(folder_path, filename)\n",
    "        sub_df = process_json_file(filepath)\n",
    "        sub_df.insert(0,\"filename\",filename)\n",
    "        dataframes.append(sub_df)\n",
    "\n",
    "df = pd.concat(dataframes, ignore_index=True)"
   ]
  },
  {
   "cell_type": "code",
   "execution_count": 5,
   "id": "3fa72fb6-3c1c-42e0-b5a5-c2dff44618c5",
   "metadata": {},
   "outputs": [],
   "source": [
    "df['num_patterns'] = df['patterns'].apply(len)"
   ]
  },
  {
   "cell_type": "code",
   "execution_count": 6,
   "id": "3836ed23-ad02-488c-9e81-b7320307e3fe",
   "metadata": {},
   "outputs": [
    {
     "data": {
      "text/html": [
       "<div>\n",
       "<style scoped>\n",
       "    .dataframe tbody tr th:only-of-type {\n",
       "        vertical-align: middle;\n",
       "    }\n",
       "\n",
       "    .dataframe tbody tr th {\n",
       "        vertical-align: top;\n",
       "    }\n",
       "\n",
       "    .dataframe thead th {\n",
       "        text-align: right;\n",
       "    }\n",
       "</style>\n",
       "<table border=\"1\" class=\"dataframe\">\n",
       "  <thead>\n",
       "    <tr style=\"text-align: right;\">\n",
       "      <th></th>\n",
       "      <th>filename</th>\n",
       "      <th>function_name</th>\n",
       "      <th>function_scope</th>\n",
       "      <th>patterns</th>\n",
       "      <th>mutants</th>\n",
       "      <th>mutation_score</th>\n",
       "      <th>num_patterns</th>\n",
       "    </tr>\n",
       "  </thead>\n",
       "  <tbody>\n",
       "    <tr>\n",
       "      <th>0</th>\n",
       "      <td>diagrams_output.json</td>\n",
       "      <td>pre_mutation</td>\n",
       "      <td>3-11</td>\n",
       "      <td>[{'lineno': 6, 'coloffset': 4, 'linematch': 'i...</td>\n",
       "      <td>[{'name': 'Mutant #367', 'line': 9, 'descripti...</td>\n",
       "      <td>0.000000</td>\n",
       "      <td>5</td>\n",
       "    </tr>\n",
       "    <tr>\n",
       "      <th>1</th>\n",
       "      <td>diagrams_output.json</td>\n",
       "      <td>render</td>\n",
       "      <td>193-198</td>\n",
       "      <td>[{'lineno': 194, 'coloffset': 8, 'linematch': ...</td>\n",
       "      <td>[{'name': 'Mutant #107', 'line': 196, 'descrip...</td>\n",
       "      <td>0.000000</td>\n",
       "      <td>4</td>\n",
       "    </tr>\n",
       "    <tr>\n",
       "      <th>2</th>\n",
       "      <td>diagrams_output.json</td>\n",
       "      <td>__init__</td>\n",
       "      <td>446-487</td>\n",
       "      <td>[{'lineno': 466, 'coloffset': 8, 'linematch': ...</td>\n",
       "      <td>[{'name': 'Mutant #224', 'line': 449, 'descrip...</td>\n",
       "      <td>11.764706</td>\n",
       "      <td>25</td>\n",
       "    </tr>\n",
       "    <tr>\n",
       "      <th>3</th>\n",
       "      <td>diagrams_output.json</td>\n",
       "      <td>append</td>\n",
       "      <td>515-525</td>\n",
       "      <td>[{'lineno': 518, 'coloffset': 12, 'linematch':...</td>\n",
       "      <td>[{'name': 'Mutant #247', 'line': 516, 'descrip...</td>\n",
       "      <td>25.000000</td>\n",
       "      <td>6</td>\n",
       "    </tr>\n",
       "    <tr>\n",
       "      <th>4</th>\n",
       "      <td>diagrams_output.json</td>\n",
       "      <td>connect</td>\n",
       "      <td>527-540</td>\n",
       "      <td>[{'lineno': 528, 'coloffset': 8, 'linematch': ...</td>\n",
       "      <td>[{'name': 'Mutant #251', 'line': 533, 'descrip...</td>\n",
       "      <td>100.000000</td>\n",
       "      <td>11</td>\n",
       "    </tr>\n",
       "    <tr>\n",
       "      <th>...</th>\n",
       "      <td>...</td>\n",
       "      <td>...</td>\n",
       "      <td>...</td>\n",
       "      <td>...</td>\n",
       "      <td>...</td>\n",
       "      <td>...</td>\n",
       "      <td>...</td>\n",
       "    </tr>\n",
       "    <tr>\n",
       "      <th>318</th>\n",
       "      <td>dummy_project.json</td>\n",
       "      <td>setSSN</td>\n",
       "      <td>306-308</td>\n",
       "      <td>[{'lineno': 306, 'coloffset': 4, 'linematch': ...</td>\n",
       "      <td>[{'name': 'Mutant #175', 'line': 307, 'descrip...</td>\n",
       "      <td>100.000000</td>\n",
       "      <td>4</td>\n",
       "    </tr>\n",
       "    <tr>\n",
       "      <th>319</th>\n",
       "      <td>dummy_project.json</td>\n",
       "      <td>setEmail</td>\n",
       "      <td>309-311</td>\n",
       "      <td>[{'lineno': 309, 'coloffset': 4, 'linematch': ...</td>\n",
       "      <td>[{'name': 'Mutant #176', 'line': 310, 'descrip...</td>\n",
       "      <td>100.000000</td>\n",
       "      <td>4</td>\n",
       "    </tr>\n",
       "    <tr>\n",
       "      <th>320</th>\n",
       "      <td>dummy_project.json</td>\n",
       "      <td>setAddress</td>\n",
       "      <td>312-314</td>\n",
       "      <td>[{'lineno': 312, 'coloffset': 4, 'linematch': ...</td>\n",
       "      <td>[{'name': 'Mutant #177', 'line': 313, 'descrip...</td>\n",
       "      <td>100.000000</td>\n",
       "      <td>4</td>\n",
       "    </tr>\n",
       "    <tr>\n",
       "      <th>321</th>\n",
       "      <td>dummy_project.json</td>\n",
       "      <td>create_person</td>\n",
       "      <td>315-318</td>\n",
       "      <td>[{'lineno': 315, 'coloffset': 4, 'linematch': ...</td>\n",
       "      <td>[{'name': 'Mutant #178', 'line': 316, 'descrip...</td>\n",
       "      <td>100.000000</td>\n",
       "      <td>5</td>\n",
       "    </tr>\n",
       "    <tr>\n",
       "      <th>322</th>\n",
       "      <td>pyCicd_output.json</td>\n",
       "      <td>main</td>\n",
       "      <td>1-2</td>\n",
       "      <td>[{'lineno': 1, 'coloffset': 0, 'linematch': 'd...</td>\n",
       "      <td>[{'name': 'Mutant #1', 'line': 2, 'description...</td>\n",
       "      <td>0.000000</td>\n",
       "      <td>2</td>\n",
       "    </tr>\n",
       "  </tbody>\n",
       "</table>\n",
       "<p>323 rows × 7 columns</p>\n",
       "</div>"
      ],
      "text/plain": [
       "                 filename  function_name function_scope  \\\n",
       "0    diagrams_output.json   pre_mutation           3-11   \n",
       "1    diagrams_output.json         render        193-198   \n",
       "2    diagrams_output.json       __init__        446-487   \n",
       "3    diagrams_output.json         append        515-525   \n",
       "4    diagrams_output.json        connect        527-540   \n",
       "..                    ...            ...            ...   \n",
       "318    dummy_project.json         setSSN        306-308   \n",
       "319    dummy_project.json       setEmail        309-311   \n",
       "320    dummy_project.json     setAddress        312-314   \n",
       "321    dummy_project.json  create_person        315-318   \n",
       "322    pyCicd_output.json           main            1-2   \n",
       "\n",
       "                                              patterns  \\\n",
       "0    [{'lineno': 6, 'coloffset': 4, 'linematch': 'i...   \n",
       "1    [{'lineno': 194, 'coloffset': 8, 'linematch': ...   \n",
       "2    [{'lineno': 466, 'coloffset': 8, 'linematch': ...   \n",
       "3    [{'lineno': 518, 'coloffset': 12, 'linematch':...   \n",
       "4    [{'lineno': 528, 'coloffset': 8, 'linematch': ...   \n",
       "..                                                 ...   \n",
       "318  [{'lineno': 306, 'coloffset': 4, 'linematch': ...   \n",
       "319  [{'lineno': 309, 'coloffset': 4, 'linematch': ...   \n",
       "320  [{'lineno': 312, 'coloffset': 4, 'linematch': ...   \n",
       "321  [{'lineno': 315, 'coloffset': 4, 'linematch': ...   \n",
       "322  [{'lineno': 1, 'coloffset': 0, 'linematch': 'd...   \n",
       "\n",
       "                                               mutants  mutation_score  \\\n",
       "0    [{'name': 'Mutant #367', 'line': 9, 'descripti...        0.000000   \n",
       "1    [{'name': 'Mutant #107', 'line': 196, 'descrip...        0.000000   \n",
       "2    [{'name': 'Mutant #224', 'line': 449, 'descrip...       11.764706   \n",
       "3    [{'name': 'Mutant #247', 'line': 516, 'descrip...       25.000000   \n",
       "4    [{'name': 'Mutant #251', 'line': 533, 'descrip...      100.000000   \n",
       "..                                                 ...             ...   \n",
       "318  [{'name': 'Mutant #175', 'line': 307, 'descrip...      100.000000   \n",
       "319  [{'name': 'Mutant #176', 'line': 310, 'descrip...      100.000000   \n",
       "320  [{'name': 'Mutant #177', 'line': 313, 'descrip...      100.000000   \n",
       "321  [{'name': 'Mutant #178', 'line': 316, 'descrip...      100.000000   \n",
       "322  [{'name': 'Mutant #1', 'line': 2, 'description...        0.000000   \n",
       "\n",
       "     num_patterns  \n",
       "0               5  \n",
       "1               4  \n",
       "2              25  \n",
       "3               6  \n",
       "4              11  \n",
       "..            ...  \n",
       "318             4  \n",
       "319             4  \n",
       "320             4  \n",
       "321             5  \n",
       "322             2  \n",
       "\n",
       "[323 rows x 7 columns]"
      ]
     },
     "execution_count": 6,
     "metadata": {},
     "output_type": "execute_result"
    }
   ],
   "source": [
    "df"
   ]
  },
  {
   "cell_type": "markdown",
   "id": "e1f50254-11cc-403b-ba69-8a0e925e9318",
   "metadata": {},
   "source": [
    "#### Pearson's correlation coefficient"
   ]
  },
  {
   "cell_type": "code",
   "execution_count": 7,
   "id": "3a9b73c0-4f48-4bbd-b178-353417817385",
   "metadata": {},
   "outputs": [],
   "source": [
    "import scipy.stats as stats"
   ]
  },
  {
   "cell_type": "code",
   "execution_count": 8,
   "id": "5d91d636-2d8a-400f-bff0-23de43d9ab10",
   "metadata": {},
   "outputs": [],
   "source": [
    "correlation, p_value = stats.pearsonr(df['num_patterns'], df['mutation_score'])"
   ]
  },
  {
   "cell_type": "code",
   "execution_count": 9,
   "id": "3321e234-7e64-49e2-a3dd-7fdfd05f4e01",
   "metadata": {},
   "outputs": [
    {
     "name": "stdout",
     "output_type": "stream",
     "text": [
      "Correlation coefficient (r): 0.04403846493962099\n",
      "p-value: 0.4302391627315757\n"
     ]
    }
   ],
   "source": [
    "print(\"Correlation coefficient (r):\", correlation)\n",
    "print(\"p-value:\", p_value)"
   ]
  },
  {
   "cell_type": "markdown",
   "id": "612e3865-cfed-48d6-bbae-ed478903bb51",
   "metadata": {},
   "source": [
    "Observation: \n",
    "* Correlation Coefficient (r) is very close of 0, indicating a very weak negative correlation between the number of code patterns and mutation score\n",
    "* p-value is significantly higher than the typical threshold (often set at 0.05), suggesting the observed weak negative correlation is likely due to chance, and there's not enough evidence to claim a statistically significant relationship\n",
    "\n",
    "--> There's not enough evidence to conclude a statistically significant corerlation between the number of patterns and the mutation score."
   ]
  },
  {
   "cell_type": "code",
   "execution_count": null,
   "id": "86b868ef-bc98-4389-881b-598f8d25c55a",
   "metadata": {},
   "outputs": [],
   "source": []
  }
 ],
 "metadata": {
  "kernelspec": {
   "display_name": "Python 3 (ipykernel)",
   "language": "python",
   "name": "python3"
  },
  "language_info": {
   "codemirror_mode": {
    "name": "ipython",
    "version": 3
   },
   "file_extension": ".py",
   "mimetype": "text/x-python",
   "name": "python",
   "nbconvert_exporter": "python",
   "pygments_lexer": "ipython3",
   "version": "3.12.5"
  }
 },
 "nbformat": 4,
 "nbformat_minor": 5
}
