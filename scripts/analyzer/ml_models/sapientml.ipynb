{
 "cells": [
  {
   "cell_type": "code",
   "execution_count": 8,
   "id": "b77182a9-0ca9-4d1e-ae99-86303f3cfa69",
   "metadata": {},
   "outputs": [],
   "source": [
    "import pandas as pd\n",
    "from sapientml import SapientML\n",
    "from sklearn.metrics import f1_score\n",
    "from sklearn.model_selection import train_test_split"
   ]
  },
  {
   "cell_type": "code",
   "execution_count": 9,
   "id": "d2536852-65a8-4cff-a692-c3e064e82f55",
   "metadata": {},
   "outputs": [
    {
     "name": "stderr",
     "output_type": "stream",
     "text": [
      "[2024-06-05 14:06:12] INFO:Loading dataset...\n",
      "[2024-06-05 14:06:12] WARNING:Metric is not specified. Use 'r2' by default.\n",
      "[2024-06-05 14:06:12] INFO:Generating pipelines...\n",
      "[2024-06-05 14:06:12] INFO:Generating meta features...\n",
      "[2024-06-05 14:06:12] INFO:Executing generated pipelines...\n",
      "[2024-06-05 14:06:13] INFO:Running script (1/3)...\n",
      "[2024-06-05 14:06:15] INFO:Running script (2/3)...\n",
      "[2024-06-05 14:06:17] INFO:Running script (3/3)...\n",
      "[2024-06-05 14:06:19] INFO:Evaluating execution results of generated pipelines...\n",
      "[2024-06-05 14:06:19] INFO:Building model by generated pipeline...\n",
      "[2024-06-05 14:06:21] INFO:Done.\n",
      "[2024-06-05 14:06:21] INFO:Predicting by built model...\n"
     ]
    },
    {
     "ename": "TypeError",
     "evalue": "'method' object is not subscriptable",
     "output_type": "error",
     "traceback": [
      "\u001b[0;31m---------------------------------------------------------------------------\u001b[0m",
      "\u001b[0;31mTypeError\u001b[0m                                 Traceback (most recent call last)",
      "Cell \u001b[0;32mIn[9], line 11\u001b[0m\n\u001b[1;32m      8\u001b[0m \u001b[38;5;28mcls\u001b[39m\u001b[38;5;241m.\u001b[39mfit(train_data)\n\u001b[1;32m      9\u001b[0m y_pred \u001b[38;5;241m=\u001b[39m \u001b[38;5;28mcls\u001b[39m\u001b[38;5;241m.\u001b[39mpredict(test_data)\n\u001b[0;32m---> 11\u001b[0m y_pred \u001b[38;5;241m=\u001b[39m \u001b[43my_pred\u001b[49m\u001b[43m[\u001b[49m\u001b[38;5;124;43m'\u001b[39;49m\u001b[38;5;124;43mmutation_score\u001b[39;49m\u001b[38;5;124;43m'\u001b[39;49m\u001b[43m]\u001b[49m\u001b[38;5;241;43m.\u001b[39;49m\u001b[43mrename\u001b[49m\u001b[43m[\u001b[49m\u001b[38;5;124;43m'\u001b[39;49m\u001b[38;5;124;43mmutation_score_pred\u001b[39;49m\u001b[38;5;124;43m'\u001b[39;49m\u001b[43m]\u001b[49m\n\u001b[1;32m     12\u001b[0m \u001b[38;5;28mprint\u001b[39m(\u001b[38;5;124mf\u001b[39m\u001b[38;5;124m\"\u001b[39m\u001b[38;5;124mF1 score: \u001b[39m\u001b[38;5;132;01m{\u001b[39;00mf1_score(y_true,\u001b[38;5;250m \u001b[39my_pred)\u001b[38;5;132;01m}\u001b[39;00m\u001b[38;5;124m\"\u001b[39m)\n",
      "\u001b[0;31mTypeError\u001b[0m: 'method' object is not subscriptable"
     ]
    }
   ],
   "source": [
    "train_data = pd.read_csv(\"analysis.csv\")\n",
    "train_data, test_data = train_test_split(train_data)\n",
    "y_true = test_data['mutation_category'].reset_index(drop=True)\n",
    "test_data.drop(['mutation_score'],axis=1, inplace=True)\n",
    "\n",
    "cls = SapientML(['mutation_score'])\n",
    "\n",
    "cls.fit(train_data)\n",
    "y_pred = cls.predict(test_data)\n",
    "\n",
    "y_pred = y_pred['mutation_score'].rename['mutation_score_pred']\n",
    "print(f\"F1 score: {f1_score(y_true, y_pred)}\")"
   ]
  },
  {
   "cell_type": "code",
   "execution_count": null,
   "id": "bc14c31a-65fa-4c18-adb7-1b92539fb49c",
   "metadata": {},
   "outputs": [],
   "source": []
  }
 ],
 "metadata": {
  "kernelspec": {
   "display_name": "Python 3 (ipykernel)",
   "language": "python",
   "name": "python3"
  },
  "language_info": {
   "codemirror_mode": {
    "name": "ipython",
    "version": 3
   },
   "file_extension": ".py",
   "mimetype": "text/x-python",
   "name": "python",
   "nbconvert_exporter": "python",
   "pygments_lexer": "ipython3",
   "version": "3.11.7"
  }
 },
 "nbformat": 4,
 "nbformat_minor": 5
}
