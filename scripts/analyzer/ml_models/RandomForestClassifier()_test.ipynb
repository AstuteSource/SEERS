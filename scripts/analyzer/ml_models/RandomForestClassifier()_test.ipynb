{
 "cells": [
  {
   "cell_type": "markdown",
   "metadata": {
    "id": "OkTocIIAvkrf"
   },
   "source": [
    "This program attempst predict the mutation score of a function"
   ]
  },
  {
   "cell_type": "code",
   "execution_count": 8,
   "metadata": {
    "id": "ZQfO4qOYvvBt"
   },
   "outputs": [],
   "source": [
    "#Import the libraries\n",
    "import pandas as pd\n",
    "import numpy as np\n",
    "import matplotlib.pyplot as plt\n",
    "%matplotlib inline"
   ]
  },
  {
   "cell_type": "code",
   "execution_count": 13,
   "metadata": {
    "id": "0SGnQImZIMV9"
   },
   "outputs": [],
   "source": [
    "from sklearn import datasets, metrics\n",
    "from sklearn.model_selection import train_test_split\n",
    "from sklearn.ensemble import RandomForestRegressor"
   ]
  },
  {
   "cell_type": "code",
   "execution_count": 20,
   "metadata": {
    "colab": {
     "base_uri": "https://localhost:8080/"
    },
    "id": "CV_KoVi5wDz9",
    "outputId": "4121bcf3-986c-425c-e54d-92aa2cce9b12"
   },
   "outputs": [
    {
     "data": {
      "text/plain": [
       "['function_name', 'function_scope', 'patterns', 'mutants', 'mutation_score']"
      ]
     },
     "execution_count": 20,
     "metadata": {},
     "output_type": "execute_result"
    }
   ],
   "source": [
    "#Collect and clean the data\n",
    "df = pd.read_json(\"../new_output_with_functions.json\")\n",
    "list(df.columns.values)"
   ]
  },
  {
   "cell_type": "code",
   "execution_count": 21,
   "metadata": {},
   "outputs": [
    {
     "data": {
      "text/html": [
       "<div>\n",
       "<style scoped>\n",
       "    .dataframe tbody tr th:only-of-type {\n",
       "        vertical-align: middle;\n",
       "    }\n",
       "\n",
       "    .dataframe tbody tr th {\n",
       "        vertical-align: top;\n",
       "    }\n",
       "\n",
       "    .dataframe thead th {\n",
       "        text-align: right;\n",
       "    }\n",
       "</style>\n",
       "<table border=\"1\" class=\"dataframe\">\n",
       "  <thead>\n",
       "    <tr style=\"text-align: right;\">\n",
       "      <th></th>\n",
       "      <th>function_name</th>\n",
       "      <th>function_scope</th>\n",
       "      <th>patterns</th>\n",
       "      <th>mutants</th>\n",
       "      <th>mutation_score</th>\n",
       "    </tr>\n",
       "  </thead>\n",
       "  <tbody>\n",
       "    <tr>\n",
       "      <th>0</th>\n",
       "      <td>parse_mutant_ids</td>\n",
       "      <td>4-6</td>\n",
       "      <td>[{'lineno': 4, 'coloffset': 0, 'linematch': 'd...</td>\n",
       "      <td>[]</td>\n",
       "      <td>NaN</td>\n",
       "    </tr>\n",
       "    <tr>\n",
       "      <th>1</th>\n",
       "      <td>get_function_name_from_diff</td>\n",
       "      <td>8-15</td>\n",
       "      <td>[{'lineno': 8, 'coloffset': 0, 'linematch': 'd...</td>\n",
       "      <td>[{'name': 'Mutant #120', 'line': 11, 'descript...</td>\n",
       "      <td>100.000000</td>\n",
       "    </tr>\n",
       "    <tr>\n",
       "      <th>2</th>\n",
       "      <td>main</td>\n",
       "      <td>17-51</td>\n",
       "      <td>[{'lineno': 17, 'coloffset': 0, 'linematch': '...</td>\n",
       "      <td>[{'name': 'Mutant #123', 'line': 17, 'descript...</td>\n",
       "      <td>95.833333</td>\n",
       "    </tr>\n",
       "    <tr>\n",
       "      <th>3</th>\n",
       "      <td>test_hparams</td>\n",
       "      <td>6-33</td>\n",
       "      <td>[{'lineno': 6, 'coloffset': 0, 'linematch': 'd...</td>\n",
       "      <td>[{'name': 'Mutant #118', 'line': 7, 'descripti...</td>\n",
       "      <td>94.117647</td>\n",
       "    </tr>\n",
       "    <tr>\n",
       "      <th>4</th>\n",
       "      <td>test_picable_function</td>\n",
       "      <td>35-51</td>\n",
       "      <td>[{'lineno': 35, 'coloffset': 0, 'linematch': '...</td>\n",
       "      <td>[{'name': 'Mutant #135', 'line': 36, 'descript...</td>\n",
       "      <td>100.000000</td>\n",
       "    </tr>\n",
       "    <tr>\n",
       "      <th>5</th>\n",
       "      <td>test_files</td>\n",
       "      <td>53-74</td>\n",
       "      <td>[{'lineno': 53, 'coloffset': 0, 'linematch': '...</td>\n",
       "      <td>[{'name': 'Mutant #147', 'line': 53, 'descript...</td>\n",
       "      <td>77.777778</td>\n",
       "    </tr>\n",
       "    <tr>\n",
       "      <th>6</th>\n",
       "      <td>test_directories</td>\n",
       "      <td>76-105</td>\n",
       "      <td>[{'lineno': 76, 'coloffset': 0, 'linematch': '...</td>\n",
       "      <td>[]</td>\n",
       "      <td>NaN</td>\n",
       "    </tr>\n",
       "    <tr>\n",
       "      <th>7</th>\n",
       "      <td>test_cached</td>\n",
       "      <td>5-73</td>\n",
       "      <td>[{'lineno': 5, 'coloffset': 0, 'linematch': 'd...</td>\n",
       "      <td>[{'name': 'Mutant #118', 'line': 7, 'descripti...</td>\n",
       "      <td>89.361702</td>\n",
       "    </tr>\n",
       "    <tr>\n",
       "      <th>8</th>\n",
       "      <td>__init__</td>\n",
       "      <td>9-11</td>\n",
       "      <td>[{'lineno': 9, 'coloffset': 4, 'linematch': 'd...</td>\n",
       "      <td>[{'name': 'Mutant #120', 'line': 11, 'descript...</td>\n",
       "      <td>100.000000</td>\n",
       "    </tr>\n",
       "    <tr>\n",
       "      <th>9</th>\n",
       "      <td>add_directories</td>\n",
       "      <td>13-27</td>\n",
       "      <td>[{'lineno': 13, 'coloffset': 4, 'linematch': '...</td>\n",
       "      <td>[{'name': 'Mutant #122', 'line': 13, 'descript...</td>\n",
       "      <td>87.500000</td>\n",
       "    </tr>\n",
       "    <tr>\n",
       "      <th>10</th>\n",
       "      <td>add_files</td>\n",
       "      <td>29-42</td>\n",
       "      <td>[{'lineno': 29, 'coloffset': 4, 'linematch': '...</td>\n",
       "      <td>[{'name': 'Mutant #130', 'line': 31, 'descript...</td>\n",
       "      <td>100.000000</td>\n",
       "    </tr>\n",
       "    <tr>\n",
       "      <th>11</th>\n",
       "      <td>add_hparams</td>\n",
       "      <td>44-50</td>\n",
       "      <td>[{'lineno': 44, 'coloffset': 4, 'linematch': '...</td>\n",
       "      <td>[{'name': 'Mutant #142', 'line': 48, 'descript...</td>\n",
       "      <td>100.000000</td>\n",
       "    </tr>\n",
       "    <tr>\n",
       "      <th>12</th>\n",
       "      <td>add_picklables</td>\n",
       "      <td>52-61</td>\n",
       "      <td>[{'lineno': 52, 'coloffset': 4, 'linematch': '...</td>\n",
       "      <td>[{'name': 'Mutant #147', 'line': 53, 'descript...</td>\n",
       "      <td>62.500000</td>\n",
       "    </tr>\n",
       "    <tr>\n",
       "      <th>13</th>\n",
       "      <td>hash</td>\n",
       "      <td>63-70</td>\n",
       "      <td>[{'lineno': 63, 'coloffset': 4, 'linematch': '...</td>\n",
       "      <td>[{'name': 'Mutant #157', 'line': 65, 'descript...</td>\n",
       "      <td>66.666667</td>\n",
       "    </tr>\n",
       "    <tr>\n",
       "      <th>14</th>\n",
       "      <td>cached</td>\n",
       "      <td>14-91</td>\n",
       "      <td>[{'lineno': 14, 'coloffset': 0, 'linematch': '...</td>\n",
       "      <td>[{'name': 'Mutant #123', 'line': 17, 'descript...</td>\n",
       "      <td>88.095238</td>\n",
       "    </tr>\n",
       "  </tbody>\n",
       "</table>\n",
       "</div>"
      ],
      "text/plain": [
       "                  function_name function_scope  \\\n",
       "0              parse_mutant_ids            4-6   \n",
       "1   get_function_name_from_diff           8-15   \n",
       "2                          main          17-51   \n",
       "3                  test_hparams           6-33   \n",
       "4         test_picable_function          35-51   \n",
       "5                    test_files          53-74   \n",
       "6              test_directories         76-105   \n",
       "7                   test_cached           5-73   \n",
       "8                      __init__           9-11   \n",
       "9               add_directories          13-27   \n",
       "10                    add_files          29-42   \n",
       "11                  add_hparams          44-50   \n",
       "12               add_picklables          52-61   \n",
       "13                         hash          63-70   \n",
       "14                       cached          14-91   \n",
       "\n",
       "                                             patterns  \\\n",
       "0   [{'lineno': 4, 'coloffset': 0, 'linematch': 'd...   \n",
       "1   [{'lineno': 8, 'coloffset': 0, 'linematch': 'd...   \n",
       "2   [{'lineno': 17, 'coloffset': 0, 'linematch': '...   \n",
       "3   [{'lineno': 6, 'coloffset': 0, 'linematch': 'd...   \n",
       "4   [{'lineno': 35, 'coloffset': 0, 'linematch': '...   \n",
       "5   [{'lineno': 53, 'coloffset': 0, 'linematch': '...   \n",
       "6   [{'lineno': 76, 'coloffset': 0, 'linematch': '...   \n",
       "7   [{'lineno': 5, 'coloffset': 0, 'linematch': 'd...   \n",
       "8   [{'lineno': 9, 'coloffset': 4, 'linematch': 'd...   \n",
       "9   [{'lineno': 13, 'coloffset': 4, 'linematch': '...   \n",
       "10  [{'lineno': 29, 'coloffset': 4, 'linematch': '...   \n",
       "11  [{'lineno': 44, 'coloffset': 4, 'linematch': '...   \n",
       "12  [{'lineno': 52, 'coloffset': 4, 'linematch': '...   \n",
       "13  [{'lineno': 63, 'coloffset': 4, 'linematch': '...   \n",
       "14  [{'lineno': 14, 'coloffset': 0, 'linematch': '...   \n",
       "\n",
       "                                              mutants  mutation_score  \n",
       "0                                                  []             NaN  \n",
       "1   [{'name': 'Mutant #120', 'line': 11, 'descript...      100.000000  \n",
       "2   [{'name': 'Mutant #123', 'line': 17, 'descript...       95.833333  \n",
       "3   [{'name': 'Mutant #118', 'line': 7, 'descripti...       94.117647  \n",
       "4   [{'name': 'Mutant #135', 'line': 36, 'descript...      100.000000  \n",
       "5   [{'name': 'Mutant #147', 'line': 53, 'descript...       77.777778  \n",
       "6                                                  []             NaN  \n",
       "7   [{'name': 'Mutant #118', 'line': 7, 'descripti...       89.361702  \n",
       "8   [{'name': 'Mutant #120', 'line': 11, 'descript...      100.000000  \n",
       "9   [{'name': 'Mutant #122', 'line': 13, 'descript...       87.500000  \n",
       "10  [{'name': 'Mutant #130', 'line': 31, 'descript...      100.000000  \n",
       "11  [{'name': 'Mutant #142', 'line': 48, 'descript...      100.000000  \n",
       "12  [{'name': 'Mutant #147', 'line': 53, 'descript...       62.500000  \n",
       "13  [{'name': 'Mutant #157', 'line': 65, 'descript...       66.666667  \n",
       "14  [{'name': 'Mutant #123', 'line': 17, 'descript...       88.095238  "
      ]
     },
     "execution_count": 21,
     "metadata": {},
     "output_type": "execute_result"
    }
   ],
   "source": [
    "#View data\n",
    "df"
   ]
  },
  {
   "cell_type": "code",
   "execution_count": 18,
   "metadata": {},
   "outputs": [],
   "source": [
    "df.to_csv('my_dataframe.csv', index=False)"
   ]
  },
  {
   "cell_type": "code",
   "execution_count": 19,
   "metadata": {
    "colab": {
     "base_uri": "https://localhost:8080/",
     "height": 1000
    },
    "id": "7NLcooNGEPFI",
    "outputId": "dbccab46-077a-45ea-8bfc-d2c68e72daeb"
   },
   "outputs": [
    {
     "ename": "KeyError",
     "evalue": "'check_id'",
     "output_type": "error",
     "traceback": [
      "\u001b[0;31m---------------------------------------------------------------------------\u001b[0m",
      "\u001b[0;31mKeyError\u001b[0m                                  Traceback (most recent call last)",
      "File \u001b[0;32m~/.pyenv/versions/3.11.7/lib/python3.11/site-packages/pandas/core/indexes/base.py:3802\u001b[0m, in \u001b[0;36mIndex.get_loc\u001b[0;34m(self, key)\u001b[0m\n\u001b[1;32m   3801\u001b[0m \u001b[38;5;28;01mtry\u001b[39;00m:\n\u001b[0;32m-> 3802\u001b[0m     \u001b[38;5;28;01mreturn\u001b[39;00m \u001b[38;5;28;43mself\u001b[39;49m\u001b[38;5;241;43m.\u001b[39;49m\u001b[43m_engine\u001b[49m\u001b[38;5;241;43m.\u001b[39;49m\u001b[43mget_loc\u001b[49m\u001b[43m(\u001b[49m\u001b[43mcasted_key\u001b[49m\u001b[43m)\u001b[49m\n\u001b[1;32m   3803\u001b[0m \u001b[38;5;28;01mexcept\u001b[39;00m \u001b[38;5;167;01mKeyError\u001b[39;00m \u001b[38;5;28;01mas\u001b[39;00m err:\n",
      "File \u001b[0;32mindex.pyx:153\u001b[0m, in \u001b[0;36mpandas._libs.index.IndexEngine.get_loc\u001b[0;34m()\u001b[0m\n",
      "File \u001b[0;32mindex.pyx:182\u001b[0m, in \u001b[0;36mpandas._libs.index.IndexEngine.get_loc\u001b[0;34m()\u001b[0m\n",
      "File \u001b[0;32mpandas/_libs/hashtable_class_helper.pxi:7081\u001b[0m, in \u001b[0;36mpandas._libs.hashtable.PyObjectHashTable.get_item\u001b[0;34m()\u001b[0m\n",
      "File \u001b[0;32mpandas/_libs/hashtable_class_helper.pxi:7089\u001b[0m, in \u001b[0;36mpandas._libs.hashtable.PyObjectHashTable.get_item\u001b[0;34m()\u001b[0m\n",
      "\u001b[0;31mKeyError\u001b[0m: 'check_id'",
      "\nThe above exception was the direct cause of the following exception:\n",
      "\u001b[0;31mKeyError\u001b[0m                                  Traceback (most recent call last)",
      "Cell \u001b[0;32mIn[19], line 3\u001b[0m\n\u001b[1;32m      1\u001b[0m \u001b[38;5;66;03m#Show the data visually\u001b[39;00m\n\u001b[0;32m----> 3\u001b[0m \u001b[43mdf\u001b[49m\u001b[38;5;241;43m.\u001b[39;49m\u001b[43mplot\u001b[49m\u001b[43m(\u001b[49m\u001b[43mx\u001b[49m\u001b[38;5;241;43m=\u001b[39;49m\u001b[38;5;124;43m\"\u001b[39;49m\u001b[38;5;124;43mcheck_id\u001b[39;49m\u001b[38;5;124;43m\"\u001b[39;49m\u001b[43m \u001b[49m\u001b[43m,\u001b[49m\u001b[43m \u001b[49m\u001b[43my\u001b[49m\u001b[38;5;241;43m=\u001b[39;49m\u001b[43m \u001b[49m\u001b[38;5;124;43m\"\u001b[39;49m\u001b[38;5;124;43mmutation_score\u001b[39;49m\u001b[38;5;124;43m\"\u001b[39;49m\u001b[43m)\u001b[49m\n\u001b[1;32m      4\u001b[0m plt\u001b[38;5;241m.\u001b[39mxticks(rotation\u001b[38;5;241m=\u001b[39m\u001b[38;5;241m45\u001b[39m)\n",
      "File \u001b[0;32m~/.pyenv/versions/3.11.7/lib/python3.11/site-packages/pandas/plotting/_core.py:995\u001b[0m, in \u001b[0;36mPlotAccessor.__call__\u001b[0;34m(self, *args, **kwargs)\u001b[0m\n\u001b[1;32m    993\u001b[0m \u001b[38;5;28;01mif\u001b[39;00m is_integer(x) \u001b[38;5;129;01mand\u001b[39;00m \u001b[38;5;129;01mnot\u001b[39;00m data\u001b[38;5;241m.\u001b[39mcolumns\u001b[38;5;241m.\u001b[39m_holds_integer():\n\u001b[1;32m    994\u001b[0m     x \u001b[38;5;241m=\u001b[39m data_cols[x]\n\u001b[0;32m--> 995\u001b[0m \u001b[38;5;28;01melif\u001b[39;00m \u001b[38;5;129;01mnot\u001b[39;00m \u001b[38;5;28misinstance\u001b[39m(\u001b[43mdata\u001b[49m\u001b[43m[\u001b[49m\u001b[43mx\u001b[49m\u001b[43m]\u001b[49m, ABCSeries):\n\u001b[1;32m    996\u001b[0m     \u001b[38;5;28;01mraise\u001b[39;00m \u001b[38;5;167;01mValueError\u001b[39;00m(\u001b[38;5;124m\"\u001b[39m\u001b[38;5;124mx must be a label or position\u001b[39m\u001b[38;5;124m\"\u001b[39m)\n\u001b[1;32m    997\u001b[0m data \u001b[38;5;241m=\u001b[39m data\u001b[38;5;241m.\u001b[39mset_index(x)\n",
      "File \u001b[0;32m~/.pyenv/versions/3.11.7/lib/python3.11/site-packages/pandas/core/frame.py:4090\u001b[0m, in \u001b[0;36mDataFrame.__getitem__\u001b[0;34m(self, key)\u001b[0m\n\u001b[1;32m   4088\u001b[0m \u001b[38;5;28;01mif\u001b[39;00m \u001b[38;5;28mself\u001b[39m\u001b[38;5;241m.\u001b[39mcolumns\u001b[38;5;241m.\u001b[39mnlevels \u001b[38;5;241m>\u001b[39m \u001b[38;5;241m1\u001b[39m:\n\u001b[1;32m   4089\u001b[0m     \u001b[38;5;28;01mreturn\u001b[39;00m \u001b[38;5;28mself\u001b[39m\u001b[38;5;241m.\u001b[39m_getitem_multilevel(key)\n\u001b[0;32m-> 4090\u001b[0m indexer \u001b[38;5;241m=\u001b[39m \u001b[38;5;28;43mself\u001b[39;49m\u001b[38;5;241;43m.\u001b[39;49m\u001b[43mcolumns\u001b[49m\u001b[38;5;241;43m.\u001b[39;49m\u001b[43mget_loc\u001b[49m\u001b[43m(\u001b[49m\u001b[43mkey\u001b[49m\u001b[43m)\u001b[49m\n\u001b[1;32m   4091\u001b[0m \u001b[38;5;28;01mif\u001b[39;00m is_integer(indexer):\n\u001b[1;32m   4092\u001b[0m     indexer \u001b[38;5;241m=\u001b[39m [indexer]\n",
      "File \u001b[0;32m~/.pyenv/versions/3.11.7/lib/python3.11/site-packages/pandas/core/indexes/base.py:3809\u001b[0m, in \u001b[0;36mIndex.get_loc\u001b[0;34m(self, key)\u001b[0m\n\u001b[1;32m   3804\u001b[0m     \u001b[38;5;28;01mif\u001b[39;00m \u001b[38;5;28misinstance\u001b[39m(casted_key, \u001b[38;5;28mslice\u001b[39m) \u001b[38;5;129;01mor\u001b[39;00m (\n\u001b[1;32m   3805\u001b[0m         \u001b[38;5;28misinstance\u001b[39m(casted_key, abc\u001b[38;5;241m.\u001b[39mIterable)\n\u001b[1;32m   3806\u001b[0m         \u001b[38;5;129;01mand\u001b[39;00m \u001b[38;5;28many\u001b[39m(\u001b[38;5;28misinstance\u001b[39m(x, \u001b[38;5;28mslice\u001b[39m) \u001b[38;5;28;01mfor\u001b[39;00m x \u001b[38;5;129;01min\u001b[39;00m casted_key)\n\u001b[1;32m   3807\u001b[0m     ):\n\u001b[1;32m   3808\u001b[0m         \u001b[38;5;28;01mraise\u001b[39;00m InvalidIndexError(key)\n\u001b[0;32m-> 3809\u001b[0m     \u001b[38;5;28;01mraise\u001b[39;00m \u001b[38;5;167;01mKeyError\u001b[39;00m(key) \u001b[38;5;28;01mfrom\u001b[39;00m \u001b[38;5;21;01merr\u001b[39;00m\n\u001b[1;32m   3810\u001b[0m \u001b[38;5;28;01mexcept\u001b[39;00m \u001b[38;5;167;01mTypeError\u001b[39;00m:\n\u001b[1;32m   3811\u001b[0m     \u001b[38;5;66;03m# If we have a listlike key, _check_indexing_error will raise\u001b[39;00m\n\u001b[1;32m   3812\u001b[0m     \u001b[38;5;66;03m#  InvalidIndexError. Otherwise we fall through and re-raise\u001b[39;00m\n\u001b[1;32m   3813\u001b[0m     \u001b[38;5;66;03m#  the TypeError.\u001b[39;00m\n\u001b[1;32m   3814\u001b[0m     \u001b[38;5;28mself\u001b[39m\u001b[38;5;241m.\u001b[39m_check_indexing_error(key)\n",
      "\u001b[0;31mKeyError\u001b[0m: 'check_id'"
     ]
    }
   ],
   "source": [
    "#Show the data visually\n",
    "\n",
    "df.plot(x=\"check_id\" , y= \"mutation_score\")\n",
    "plt.xticks(rotation=45)"
   ]
  },
  {
   "cell_type": "code",
   "execution_count": null,
   "metadata": {
    "id": "Gykl2QwLH1Rq"
   },
   "outputs": [],
   "source": [
    "\n",
    "#Split data into training and testing sets,(80% training, 20% testing)\n",
    "X_train, X_test, y_train, y_test = train_test_split(df, df['mutation_score'], test_size= 0.2, random_state = 42)"
   ]
  },
  {
   "cell_type": "code",
   "execution_count": 5,
   "metadata": {
    "id": "QmHtChRrJg2V"
   },
   "outputs": [],
   "source": [
    "from sklearn.preprocessing import LabelEncoder\n",
    "#Preprocess data\n",
    "#Convert text labels \"check_id\" values into numerical representations that the model can understand and use for learning patterns\n",
    "def preprocess_data(data):\n",
    "  le = LabelEncoder() #Create LabelEncoder object\n",
    "  X_encoded = le.fit_transform(data['pattern']) #map the category with numerical labels\n",
    "\n",
    "  #a case when we need to add more feature, set None for now\n",
    "  X_other_features = None\n",
    "\n",
    "  #Combine features\n",
    "  if X_other_features is not None:\n",
    "    X = np.hstack((X_encoded.reshape(-1,1), X_other_features))\n",
    "  else:\n",
    "    X=X_encoded.reshape(-1,1) #reshape to ensure correct format in all rows and single column\n",
    "  return X\n"
   ]
  },
  {
   "cell_type": "code",
   "execution_count": null,
   "metadata": {
    "id": "VbRB8L70hfDg"
   },
   "outputs": [],
   "source": [
    "#Preprocess training and testing data\n",
    "X_train_processed = preprocess_data(X_train.copy())\n",
    "X_test_processed = preprocess_data(X_test.copy())"
   ]
  },
  {
   "cell_type": "code",
   "execution_count": null,
   "metadata": {
    "id": "UjoEEuvTh0s9"
   },
   "outputs": [],
   "source": [
    "#Define thresholds to categorize mutation score\n",
    "low_threshold = 25\n",
    "medium_threshold = 75\n",
    "\n",
    "#Map mutation score for categories\n",
    "def map_to_category(score):\n",
    "  if score is np.NaN:\n",
    "    return \"NA\"\n",
    "  elif score < low_threshold:\n",
    "    return \"low\"\n",
    "  elif score < medium_threshold:\n",
    "    return \"medium\"\n",
    "  else:\n",
    "    return \"high\""
   ]
  },
  {
   "cell_type": "code",
   "execution_count": null,
   "metadata": {
    "colab": {
     "base_uri": "https://localhost:8080/"
    },
    "id": "mRt5-CuxiOni",
    "outputId": "b7496dfb-de76-4b99-ad7a-3ac46b4c9ecc"
   },
   "outputs": [],
   "source": [
    "#Convert mutation scores to categories for training\n",
    "y_train_categories = [map_to_category(score) for score in y_train]\n",
    "print(y_train_categories)"
   ]
  },
  {
   "cell_type": "code",
   "execution_count": 25,
   "metadata": {
    "id": "P8W3nFCUiyl7"
   },
   "outputs": [],
   "source": [
    "#Test data with RandomForestClassifier() since we want to classify mutation in three score categories \"low\", \"medium\", \"high\"\n",
    "\n",
    "from sklearn.ensemble import RandomForestClassifier"
   ]
  },
  {
   "cell_type": "code",
   "execution_count": 26,
   "metadata": {
    "colab": {
     "base_uri": "https://localhost:8080/",
     "height": 51
    },
    "id": "TiTnvB3EjXdC",
    "outputId": "ba37cd9a-213f-4357-f038-9bbb88e7704a"
   },
   "outputs": [
    {
     "data": {
      "text/html": [
       "<style>#sk-container-id-1 {color: black;}#sk-container-id-1 pre{padding: 0;}#sk-container-id-1 div.sk-toggleable {background-color: white;}#sk-container-id-1 label.sk-toggleable__label {cursor: pointer;display: block;width: 100%;margin-bottom: 0;padding: 0.3em;box-sizing: border-box;text-align: center;}#sk-container-id-1 label.sk-toggleable__label-arrow:before {content: \"▸\";float: left;margin-right: 0.25em;color: #696969;}#sk-container-id-1 label.sk-toggleable__label-arrow:hover:before {color: black;}#sk-container-id-1 div.sk-estimator:hover label.sk-toggleable__label-arrow:before {color: black;}#sk-container-id-1 div.sk-toggleable__content {max-height: 0;max-width: 0;overflow: hidden;text-align: left;background-color: #f0f8ff;}#sk-container-id-1 div.sk-toggleable__content pre {margin: 0.2em;color: black;border-radius: 0.25em;background-color: #f0f8ff;}#sk-container-id-1 input.sk-toggleable__control:checked~div.sk-toggleable__content {max-height: 200px;max-width: 100%;overflow: auto;}#sk-container-id-1 input.sk-toggleable__control:checked~label.sk-toggleable__label-arrow:before {content: \"▾\";}#sk-container-id-1 div.sk-estimator input.sk-toggleable__control:checked~label.sk-toggleable__label {background-color: #d4ebff;}#sk-container-id-1 div.sk-label input.sk-toggleable__control:checked~label.sk-toggleable__label {background-color: #d4ebff;}#sk-container-id-1 input.sk-hidden--visually {border: 0;clip: rect(1px 1px 1px 1px);clip: rect(1px, 1px, 1px, 1px);height: 1px;margin: -1px;overflow: hidden;padding: 0;position: absolute;width: 1px;}#sk-container-id-1 div.sk-estimator {font-family: monospace;background-color: #f0f8ff;border: 1px dotted black;border-radius: 0.25em;box-sizing: border-box;margin-bottom: 0.5em;}#sk-container-id-1 div.sk-estimator:hover {background-color: #d4ebff;}#sk-container-id-1 div.sk-parallel-item::after {content: \"\";width: 100%;border-bottom: 1px solid gray;flex-grow: 1;}#sk-container-id-1 div.sk-label:hover label.sk-toggleable__label {background-color: #d4ebff;}#sk-container-id-1 div.sk-serial::before {content: \"\";position: absolute;border-left: 1px solid gray;box-sizing: border-box;top: 0;bottom: 0;left: 50%;z-index: 0;}#sk-container-id-1 div.sk-serial {display: flex;flex-direction: column;align-items: center;background-color: white;padding-right: 0.2em;padding-left: 0.2em;position: relative;}#sk-container-id-1 div.sk-item {position: relative;z-index: 1;}#sk-container-id-1 div.sk-parallel {display: flex;align-items: stretch;justify-content: center;background-color: white;position: relative;}#sk-container-id-1 div.sk-item::before, #sk-container-id-1 div.sk-parallel-item::before {content: \"\";position: absolute;border-left: 1px solid gray;box-sizing: border-box;top: 0;bottom: 0;left: 50%;z-index: -1;}#sk-container-id-1 div.sk-parallel-item {display: flex;flex-direction: column;z-index: 1;position: relative;background-color: white;}#sk-container-id-1 div.sk-parallel-item:first-child::after {align-self: flex-end;width: 50%;}#sk-container-id-1 div.sk-parallel-item:last-child::after {align-self: flex-start;width: 50%;}#sk-container-id-1 div.sk-parallel-item:only-child::after {width: 0;}#sk-container-id-1 div.sk-dashed-wrapped {border: 1px dashed gray;margin: 0 0.4em 0.5em 0.4em;box-sizing: border-box;padding-bottom: 0.4em;background-color: white;}#sk-container-id-1 div.sk-label label {font-family: monospace;font-weight: bold;display: inline-block;line-height: 1.2em;}#sk-container-id-1 div.sk-label-container {text-align: center;}#sk-container-id-1 div.sk-container {/* jupyter's `normalize.less` sets `[hidden] { display: none; }` but bootstrap.min.css set `[hidden] { display: none !important; }` so we also need the `!important` here to be able to override the default hidden behavior on the sphinx rendered scikit-learn.org. See: https://github.com/scikit-learn/scikit-learn/issues/21755 */display: inline-block !important;position: relative;}#sk-container-id-1 div.sk-text-repr-fallback {display: none;}</style><div id=\"sk-container-id-1\" class=\"sk-top-container\"><div class=\"sk-text-repr-fallback\"><pre>RandomForestClassifier()</pre><b>In a Jupyter environment, please rerun this cell to show the HTML representation or trust the notebook. <br />On GitHub, the HTML representation is unable to render, please try loading this page with nbviewer.org.</b></div><div class=\"sk-container\" hidden><div class=\"sk-item\"><div class=\"sk-estimator sk-toggleable\"><input class=\"sk-toggleable__control sk-hidden--visually\" id=\"sk-estimator-id-1\" type=\"checkbox\" checked><label for=\"sk-estimator-id-1\" class=\"sk-toggleable__label sk-toggleable__label-arrow\">RandomForestClassifier</label><div class=\"sk-toggleable__content\"><pre>RandomForestClassifier()</pre></div></div></div></div></div>"
      ],
      "text/plain": [
       "RandomForestClassifier()"
      ]
     },
     "execution_count": 26,
     "metadata": {},
     "output_type": "execute_result"
    }
   ],
   "source": [
    "model = RandomForestClassifier()\n",
    "model.fit(X_train_processed,y_train_categories)\n"
   ]
  },
  {
   "cell_type": "code",
   "execution_count": 27,
   "metadata": {
    "colab": {
     "base_uri": "https://localhost:8080/"
    },
    "id": "GNG1V193kOUO",
    "outputId": "7b5f67c1-d8c4-4c2f-9f0d-a0386df79122"
   },
   "outputs": [
    {
     "name": "stdout",
     "output_type": "stream",
     "text": [
      "['high' 'high' 'high' 'high' 'high' 'high' 'high' 'high' 'high' 'high'\n",
      " 'high' 'high' 'high' 'high' 'high' 'high' 'high' 'high' 'high' 'high'\n",
      " 'high' 'high' 'high' 'high' 'high' 'high' 'high' 'high' 'high' 'high'\n",
      " 'high' 'high' 'high' 'high' 'high']\n"
     ]
    }
   ],
   "source": [
    "#Predict catagories on test set\n",
    "y_pred_categories = model.predict(X_test_processed)\n",
    "print(y_pred_categories)"
   ]
  },
  {
   "cell_type": "code",
   "execution_count": 28,
   "metadata": {
    "colab": {
     "base_uri": "https://localhost:8080/",
     "height": 321
    },
    "id": "hFY776TNkVkz",
    "outputId": "0b788653-37cf-4447-eedd-c5bd5fab2df2"
   },
   "outputs": [
    {
     "ename": "TypeError",
     "evalue": "'<' not supported between instances of 'numpy.str_' and 'int'",
     "output_type": "error",
     "traceback": [
      "\u001b[0;31m---------------------------------------------------------------------------\u001b[0m",
      "\u001b[0;31mTypeError\u001b[0m                                 Traceback (most recent call last)",
      "Cell \u001b[0;32mIn[28], line 2\u001b[0m\n\u001b[1;32m      1\u001b[0m \u001b[38;5;66;03m#Map predicted categories back to low_medium_high labels\u001b[39;00m\n\u001b[0;32m----> 2\u001b[0m y_pred_labels \u001b[38;5;241m=\u001b[39m \u001b[43m[\u001b[49m\u001b[43mmap_to_category\u001b[49m\u001b[43m(\u001b[49m\u001b[43mscore\u001b[49m\u001b[43m)\u001b[49m\u001b[43m \u001b[49m\u001b[38;5;28;43;01mfor\u001b[39;49;00m\u001b[43m \u001b[49m\u001b[43mscore\u001b[49m\u001b[43m \u001b[49m\u001b[38;5;129;43;01min\u001b[39;49;00m\u001b[43m \u001b[49m\u001b[43mmodel\u001b[49m\u001b[38;5;241;43m.\u001b[39;49m\u001b[43mpredict\u001b[49m\u001b[43m(\u001b[49m\u001b[43mX_test_processed\u001b[49m\u001b[43m)\u001b[49m\u001b[43m]\u001b[49m\n",
      "Cell \u001b[0;32mIn[28], line 2\u001b[0m, in \u001b[0;36m<listcomp>\u001b[0;34m(.0)\u001b[0m\n\u001b[1;32m      1\u001b[0m \u001b[38;5;66;03m#Map predicted categories back to low_medium_high labels\u001b[39;00m\n\u001b[0;32m----> 2\u001b[0m y_pred_labels \u001b[38;5;241m=\u001b[39m [\u001b[43mmap_to_category\u001b[49m\u001b[43m(\u001b[49m\u001b[43mscore\u001b[49m\u001b[43m)\u001b[49m \u001b[38;5;28;01mfor\u001b[39;00m score \u001b[38;5;129;01min\u001b[39;00m model\u001b[38;5;241m.\u001b[39mpredict(X_test_processed)]\n",
      "Cell \u001b[0;32mIn[23], line 9\u001b[0m, in \u001b[0;36mmap_to_category\u001b[0;34m(score)\u001b[0m\n\u001b[1;32m      7\u001b[0m \u001b[38;5;28;01mif\u001b[39;00m score \u001b[38;5;129;01mis\u001b[39;00m np\u001b[38;5;241m.\u001b[39mNaN:\n\u001b[1;32m      8\u001b[0m   \u001b[38;5;28;01mreturn\u001b[39;00m \u001b[38;5;124m\"\u001b[39m\u001b[38;5;124mNA\u001b[39m\u001b[38;5;124m\"\u001b[39m\n\u001b[0;32m----> 9\u001b[0m \u001b[38;5;28;01melif\u001b[39;00m \u001b[43mscore\u001b[49m\u001b[43m \u001b[49m\u001b[38;5;241;43m<\u001b[39;49m\u001b[43m \u001b[49m\u001b[43mlow_threshold\u001b[49m:\n\u001b[1;32m     10\u001b[0m   \u001b[38;5;28;01mreturn\u001b[39;00m \u001b[38;5;124m\"\u001b[39m\u001b[38;5;124mlow\u001b[39m\u001b[38;5;124m\"\u001b[39m\n\u001b[1;32m     11\u001b[0m \u001b[38;5;28;01melif\u001b[39;00m score \u001b[38;5;241m<\u001b[39m medium_threshold:\n",
      "\u001b[0;31mTypeError\u001b[0m: '<' not supported between instances of 'numpy.str_' and 'int'"
     ]
    }
   ],
   "source": [
    "#Map predicted categories back to low_medium_high labels\n",
    "y_pred_labels = [map_to_category(score) for score in model.predict(X_test_processed)]"
   ]
  }
 ],
 "metadata": {
  "colab": {
   "provenance": []
  },
  "ipyflow": {
   "cell_children": {
    "0f9a1bf9-b6bb-416d-bec3-9e22f281d811": [],
    "11420737-00bb-4cba-9938-1420bf1671ad": [],
    "16ee4953-3736-4410-aed7-5a8aef31b7a6": [],
    "348878a7-f23b-4232-9f38-9a81e52ecb46": [],
    "48fc46e5-05a3-4eb6-bdca-601516be7105": [
     "ceb3dec3-1bc1-4042-ba12-f0931af4d0d6",
     "0f9a1bf9-b6bb-416d-bec3-9e22f281d811"
    ],
    "4a80f62a-a085-4b3e-87c1-4124b1603091": [],
    "6cd5f8c2-795e-4258-ad62-158e8f8e257d": [
     "48fc46e5-05a3-4eb6-bdca-601516be7105",
     "ba507d17-f808-4e5b-9cbc-768bed04b42d"
    ],
    "7ed41104-862b-46cb-a558-bacb4ccf3189": [
     "0f9a1bf9-b6bb-416d-bec3-9e22f281d811",
     "4a80f62a-a085-4b3e-87c1-4124b1603091",
     "6cd5f8c2-795e-4258-ad62-158e8f8e257d"
    ],
    "9d2b882b-89ec-477f-821e-aa4d0f186676": [],
    "b1a8b1ec-4f72-4d89-9000-7d5b183c8abe": [],
    "ba507d17-f808-4e5b-9cbc-768bed04b42d": [],
    "ceb3dec3-1bc1-4042-ba12-f0931af4d0d6": [
     "4a80f62a-a085-4b3e-87c1-4124b1603091",
     "b1a8b1ec-4f72-4d89-9000-7d5b183c8abe"
    ],
    "d098bd44-6ba8-4e30-9e0c-c134f34e3872": [],
    "ecc5f9f3-336f-4c42-a1cb-a84a1b992a76": [
     "4a80f62a-a085-4b3e-87c1-4124b1603091"
    ],
    "f87357a0-cce7-46ab-a0eb-ed144101b0b8": [
     "ceb3dec3-1bc1-4042-ba12-f0931af4d0d6"
    ]
   },
   "cell_parents": {
    "0f9a1bf9-b6bb-416d-bec3-9e22f281d811": [
     "48fc46e5-05a3-4eb6-bdca-601516be7105",
     "7ed41104-862b-46cb-a558-bacb4ccf3189"
    ],
    "11420737-00bb-4cba-9938-1420bf1671ad": [],
    "16ee4953-3736-4410-aed7-5a8aef31b7a6": [],
    "348878a7-f23b-4232-9f38-9a81e52ecb46": [],
    "48fc46e5-05a3-4eb6-bdca-601516be7105": [
     "6cd5f8c2-795e-4258-ad62-158e8f8e257d"
    ],
    "4a80f62a-a085-4b3e-87c1-4124b1603091": [
     "ceb3dec3-1bc1-4042-ba12-f0931af4d0d6",
     "ecc5f9f3-336f-4c42-a1cb-a84a1b992a76",
     "7ed41104-862b-46cb-a558-bacb4ccf3189"
    ],
    "6cd5f8c2-795e-4258-ad62-158e8f8e257d": [
     "7ed41104-862b-46cb-a558-bacb4ccf3189"
    ],
    "7ed41104-862b-46cb-a558-bacb4ccf3189": [],
    "9d2b882b-89ec-477f-821e-aa4d0f186676": [],
    "b1a8b1ec-4f72-4d89-9000-7d5b183c8abe": [
     "ceb3dec3-1bc1-4042-ba12-f0931af4d0d6"
    ],
    "ba507d17-f808-4e5b-9cbc-768bed04b42d": [
     "6cd5f8c2-795e-4258-ad62-158e8f8e257d"
    ],
    "ceb3dec3-1bc1-4042-ba12-f0931af4d0d6": [
     "48fc46e5-05a3-4eb6-bdca-601516be7105",
     "f87357a0-cce7-46ab-a0eb-ed144101b0b8"
    ],
    "d098bd44-6ba8-4e30-9e0c-c134f34e3872": [],
    "ecc5f9f3-336f-4c42-a1cb-a84a1b992a76": [],
    "f87357a0-cce7-46ab-a0eb-ed144101b0b8": []
   }
  },
  "kernelspec": {
   "display_name": "Python 3 (ipyflow)",
   "language": "python",
   "name": "ipyflow"
  },
  "language_info": {
   "codemirror_mode": {
    "name": "ipython",
    "version": 3
   },
   "file_extension": ".py",
   "mimetype": "text/x-python",
   "name": "python",
   "nbconvert_exporter": "python",
   "pygments_lexer": "ipython3",
   "version": "3.11.7"
  }
 },
 "nbformat": 4,
 "nbformat_minor": 4
}
