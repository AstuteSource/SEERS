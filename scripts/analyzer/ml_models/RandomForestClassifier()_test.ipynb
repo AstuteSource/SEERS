{
  "cells": [
    {
      "cell_type": "markdown",
      "metadata": {
        "id": "OkTocIIAvkrf"
      },
      "source": [
        "This program attempst predict the mutation score of a function"
      ]
    },
    {
      "cell_type": "code",
      "execution_count": 15,
      "metadata": {
        "id": "ZQfO4qOYvvBt"
      },
      "outputs": [],
      "source": [
        "#Import the libraries\n",
        "import pandas as pd\n",
        "import numpy as np\n",
        "import matplotlib.pyplot as plt\n",
        "%matplotlib inline"
      ]
    },
    {
      "cell_type": "code",
      "execution_count": 16,
      "metadata": {
        "id": "0SGnQImZIMV9"
      },
      "outputs": [],
      "source": [
        "from sklearn import datasets, metrics\n",
        "from sklearn.model_selection import train_test_split\n",
        "from sklearn.ensemble import RandomForestRegressor"
      ]
    },
    {
      "cell_type": "code",
      "execution_count": 17,
      "metadata": {
        "colab": {
          "base_uri": "https://localhost:8080/"
        },
        "id": "CV_KoVi5wDz9",
        "outputId": "4121bcf3-986c-425c-e54d-92aa2cce9b12"
      },
      "outputs": [
        {
          "data": {
            "text/plain": [
              "['file',\n",
              " 'pattern',\n",
              " 'check_id',\n",
              " 'pattern_detailes',\n",
              " 'function_name',\n",
              " 'function_scope',\n",
              " 'mutants',\n",
              " 'mutation_score']"
            ]
          },
          "execution_count": 17,
          "metadata": {},
          "output_type": "execute_result"
        }
      ],
      "source": [
        "#Collect and clean the data\n",
        "df = pd.read_json(\"../output_with_functions.json\")\n",
        "list(df.columns.values)"
      ]
    },
    {
      "cell_type": "code",
      "execution_count": 18,
      "metadata": {},
      "outputs": [
        {
          "data": {
            "text/html": [
              "<div>\n",
              "<style scoped>\n",
              "    .dataframe tbody tr th:only-of-type {\n",
              "        vertical-align: middle;\n",
              "    }\n",
              "\n",
              "    .dataframe tbody tr th {\n",
              "        vertical-align: top;\n",
              "    }\n",
              "\n",
              "    .dataframe thead th {\n",
              "        text-align: right;\n",
              "    }\n",
              "</style>\n",
              "<table border=\"1\" class=\"dataframe\">\n",
              "  <thead>\n",
              "    <tr style=\"text-align: right;\">\n",
              "      <th></th>\n",
              "      <th>file</th>\n",
              "      <th>pattern</th>\n",
              "      <th>check_id</th>\n",
              "      <th>pattern_detailes</th>\n",
              "      <th>function_name</th>\n",
              "      <th>function_scope</th>\n",
              "      <th>mutants</th>\n",
              "      <th>mutation_score</th>\n",
              "    </tr>\n",
              "  </thead>\n",
              "  <tbody>\n",
              "    <tr>\n",
              "      <th>0</th>\n",
              "      <td>/Users/jaclynpham/AstuteSource/SEERS/scripts/a...</td>\n",
              "      <td>.//ClassDef</td>\n",
              "      <td>[C001]</td>\n",
              "      <td>{'lineno': 8, 'coloffset': 0, 'linematch': 'cl...</td>\n",
              "      <td>None</td>\n",
              "      <td>None</td>\n",
              "      <td>[]</td>\n",
              "      <td>NaN</td>\n",
              "    </tr>\n",
              "    <tr>\n",
              "      <th>1</th>\n",
              "      <td>/Users/jaclynpham/AstuteSource/SEERS/scripts/a...</td>\n",
              "      <td>.//FunctionDef</td>\n",
              "      <td>[F001]</td>\n",
              "      <td>{'lineno': 6, 'coloffset': 0, 'linematch': 'de...</td>\n",
              "      <td>test_hparams</td>\n",
              "      <td>6-33</td>\n",
              "      <td>[]</td>\n",
              "      <td>NaN</td>\n",
              "    </tr>\n",
              "    <tr>\n",
              "      <th>2</th>\n",
              "      <td>/Users/jaclynpham/AstuteSource/SEERS/scripts/a...</td>\n",
              "      <td>.//FunctionDef</td>\n",
              "      <td>[F001]</td>\n",
              "      <td>{'lineno': 35, 'coloffset': 0, 'linematch': 'd...</td>\n",
              "      <td>test_picable_function</td>\n",
              "      <td>35-51</td>\n",
              "      <td>[]</td>\n",
              "      <td>NaN</td>\n",
              "    </tr>\n",
              "    <tr>\n",
              "      <th>3</th>\n",
              "      <td>/Users/jaclynpham/AstuteSource/SEERS/scripts/a...</td>\n",
              "      <td>.//FunctionDef</td>\n",
              "      <td>[F001]</td>\n",
              "      <td>{'lineno': 53, 'coloffset': 0, 'linematch': 'd...</td>\n",
              "      <td>test_files</td>\n",
              "      <td>53-74</td>\n",
              "      <td>[]</td>\n",
              "      <td>NaN</td>\n",
              "    </tr>\n",
              "    <tr>\n",
              "      <th>4</th>\n",
              "      <td>/Users/jaclynpham/AstuteSource/SEERS/scripts/a...</td>\n",
              "      <td>.//FunctionDef</td>\n",
              "      <td>[F001]</td>\n",
              "      <td>{'lineno': 76, 'coloffset': 0, 'linematch': 'd...</td>\n",
              "      <td>test_directories</td>\n",
              "      <td>76-105</td>\n",
              "      <td>[]</td>\n",
              "      <td>NaN</td>\n",
              "    </tr>\n",
              "    <tr>\n",
              "      <th>...</th>\n",
              "      <td>...</td>\n",
              "      <td>...</td>\n",
              "      <td>...</td>\n",
              "      <td>...</td>\n",
              "      <td>...</td>\n",
              "      <td>...</td>\n",
              "      <td>...</td>\n",
              "      <td>...</td>\n",
              "    </tr>\n",
              "    <tr>\n",
              "      <th>167</th>\n",
              "      <td>/Users/jaclynpham/AstuteSource/SEERS/scripts/a...</td>\n",
              "      <td>//Assert[count(.//Call[func/Name/@id='test_fun...</td>\n",
              "      <td>[TMIM001]</td>\n",
              "      <td>{'lineno': 28, 'coloffset': 16, 'linematch': '...</td>\n",
              "      <td>test_cached</td>\n",
              "      <td>5-73</td>\n",
              "      <td>[]</td>\n",
              "      <td>NaN</td>\n",
              "    </tr>\n",
              "    <tr>\n",
              "      <th>168</th>\n",
              "      <td>/Users/jaclynpham/AstuteSource/SEERS/scripts/a...</td>\n",
              "      <td>//Assert[count(.//Call[func/Name/@id='test_fun...</td>\n",
              "      <td>[TMIM001]</td>\n",
              "      <td>{'lineno': 37, 'coloffset': 16, 'linematch': '...</td>\n",
              "      <td>test_cached</td>\n",
              "      <td>5-73</td>\n",
              "      <td>[]</td>\n",
              "      <td>NaN</td>\n",
              "    </tr>\n",
              "    <tr>\n",
              "      <th>169</th>\n",
              "      <td>/Users/jaclynpham/AstuteSource/SEERS/scripts/a...</td>\n",
              "      <td>//Assert[count(.//Call[func/Name/@id='test_fun...</td>\n",
              "      <td>[TMIM001]</td>\n",
              "      <td>{'lineno': 45, 'coloffset': 16, 'linematch': '...</td>\n",
              "      <td>test_cached</td>\n",
              "      <td>5-73</td>\n",
              "      <td>[]</td>\n",
              "      <td>NaN</td>\n",
              "    </tr>\n",
              "    <tr>\n",
              "      <th>170</th>\n",
              "      <td>/Users/jaclynpham/AstuteSource/SEERS/scripts/a...</td>\n",
              "      <td>//Assert[count(.//Call[func/Name/@id='test_fun...</td>\n",
              "      <td>[TMIM001]</td>\n",
              "      <td>{'lineno': 57, 'coloffset': 16, 'linematch': '...</td>\n",
              "      <td>test_cached</td>\n",
              "      <td>5-73</td>\n",
              "      <td>[]</td>\n",
              "      <td>NaN</td>\n",
              "    </tr>\n",
              "    <tr>\n",
              "      <th>171</th>\n",
              "      <td>/Users/jaclynpham/AstuteSource/SEERS/scripts/a...</td>\n",
              "      <td>//Assert[count(.//Call[func/Name/@id='test_fun...</td>\n",
              "      <td>[TMIM001]</td>\n",
              "      <td>{'lineno': 68, 'coloffset': 16, 'linematch': '...</td>\n",
              "      <td>test_cached</td>\n",
              "      <td>5-73</td>\n",
              "      <td>[]</td>\n",
              "      <td>NaN</td>\n",
              "    </tr>\n",
              "  </tbody>\n",
              "</table>\n",
              "<p>172 rows × 8 columns</p>\n",
              "</div>"
            ],
            "text/plain": [
              "                                                  file  \\\n",
              "0    /Users/jaclynpham/AstuteSource/SEERS/scripts/a...   \n",
              "1    /Users/jaclynpham/AstuteSource/SEERS/scripts/a...   \n",
              "2    /Users/jaclynpham/AstuteSource/SEERS/scripts/a...   \n",
              "3    /Users/jaclynpham/AstuteSource/SEERS/scripts/a...   \n",
              "4    /Users/jaclynpham/AstuteSource/SEERS/scripts/a...   \n",
              "..                                                 ...   \n",
              "167  /Users/jaclynpham/AstuteSource/SEERS/scripts/a...   \n",
              "168  /Users/jaclynpham/AstuteSource/SEERS/scripts/a...   \n",
              "169  /Users/jaclynpham/AstuteSource/SEERS/scripts/a...   \n",
              "170  /Users/jaclynpham/AstuteSource/SEERS/scripts/a...   \n",
              "171  /Users/jaclynpham/AstuteSource/SEERS/scripts/a...   \n",
              "\n",
              "                                               pattern   check_id  \\\n",
              "0                                          .//ClassDef     [C001]   \n",
              "1                                       .//FunctionDef     [F001]   \n",
              "2                                       .//FunctionDef     [F001]   \n",
              "3                                       .//FunctionDef     [F001]   \n",
              "4                                       .//FunctionDef     [F001]   \n",
              "..                                                 ...        ...   \n",
              "167  //Assert[count(.//Call[func/Name/@id='test_fun...  [TMIM001]   \n",
              "168  //Assert[count(.//Call[func/Name/@id='test_fun...  [TMIM001]   \n",
              "169  //Assert[count(.//Call[func/Name/@id='test_fun...  [TMIM001]   \n",
              "170  //Assert[count(.//Call[func/Name/@id='test_fun...  [TMIM001]   \n",
              "171  //Assert[count(.//Call[func/Name/@id='test_fun...  [TMIM001]   \n",
              "\n",
              "                                      pattern_detailes          function_name  \\\n",
              "0    {'lineno': 8, 'coloffset': 0, 'linematch': 'cl...                   None   \n",
              "1    {'lineno': 6, 'coloffset': 0, 'linematch': 'de...           test_hparams   \n",
              "2    {'lineno': 35, 'coloffset': 0, 'linematch': 'd...  test_picable_function   \n",
              "3    {'lineno': 53, 'coloffset': 0, 'linematch': 'd...             test_files   \n",
              "4    {'lineno': 76, 'coloffset': 0, 'linematch': 'd...       test_directories   \n",
              "..                                                 ...                    ...   \n",
              "167  {'lineno': 28, 'coloffset': 16, 'linematch': '...            test_cached   \n",
              "168  {'lineno': 37, 'coloffset': 16, 'linematch': '...            test_cached   \n",
              "169  {'lineno': 45, 'coloffset': 16, 'linematch': '...            test_cached   \n",
              "170  {'lineno': 57, 'coloffset': 16, 'linematch': '...            test_cached   \n",
              "171  {'lineno': 68, 'coloffset': 16, 'linematch': '...            test_cached   \n",
              "\n",
              "    function_scope mutants  mutation_score  \n",
              "0             None      []             NaN  \n",
              "1             6-33      []             NaN  \n",
              "2            35-51      []             NaN  \n",
              "3            53-74      []             NaN  \n",
              "4           76-105      []             NaN  \n",
              "..             ...     ...             ...  \n",
              "167           5-73      []             NaN  \n",
              "168           5-73      []             NaN  \n",
              "169           5-73      []             NaN  \n",
              "170           5-73      []             NaN  \n",
              "171           5-73      []             NaN  \n",
              "\n",
              "[172 rows x 8 columns]"
            ]
          },
          "execution_count": 18,
          "metadata": {},
          "output_type": "execute_result"
        }
      ],
      "source": [
        "#View data\n",
        "df"
      ]
    },
    {
      "cell_type": "code",
      "execution_count": 19,
      "metadata": {
        "colab": {
          "base_uri": "https://localhost:8080/",
          "height": 1000
        },
        "id": "7NLcooNGEPFI",
        "outputId": "dbccab46-077a-45ea-8bfc-d2c68e72daeb"
      },
      "outputs": [
        {
          "data": {
            "text/plain": [
              "(array([  0.,  20.,  40.,  60.,  80., 100., 120., 140., 160., 180.]),\n",
              " [Text(0.0, 0, '[C001]'),\n",
              "  Text(20.0, 0, '[F002]'),\n",
              "  Text(40.0, 0, '[BOOL001]'),\n",
              "  Text(60.0, 0, '[ANNOT001]'),\n",
              "  Text(80.0, 0, '[F002]'),\n",
              "  Text(100.0, 0, '[LOF001]'),\n",
              "  Text(120.0, 0, '[CML001]'),\n",
              "  Text(140.0, 0, '[CML001]'),\n",
              "  Text(160.0, 0, '[CML001]'),\n",
              "  Text(180.0, 0, '')])"
            ]
          },
          "execution_count": 19,
          "metadata": {},
          "output_type": "execute_result"
        },
        {
          "data": {
            "image/png": "[encoded data removed]",
            "text/plain": [
              "<Figure size 640x480 with 1 Axes>"
            ]
          },
          "metadata": {},
          "output_type": "display_data"
        }
      ],
      "source": [
        "#Show the data visually\n",
        "\n",
        "df.plot(x=\"check_id\" , y= \"mutation_score\")\n",
        "plt.xticks(rotation=45)"
      ]
    },
    {
      "cell_type": "code",
      "execution_count": 20,
      "metadata": {
        "id": "Gykl2QwLH1Rq"
      },
      "outputs": [],
      "source": [
        "\n",
        "#Split data into training and testing sets,(80% training, 20% testing)\n",
        "X_train, X_test, y_train, y_test = train_test_split(df, df['mutation_score'], test_size= 0.2, random_state = 42)"
      ]
    },
    {
      "cell_type": "code",
      "execution_count": 21,
      "metadata": {
        "id": "QmHtChRrJg2V"
      },
      "outputs": [],
      "source": [
        "from sklearn.preprocessing import LabelEncoder\n",
        "#Preprocess data\n",
        "#Convert text labels \"check_id\" values into numerical representations that the model can understand and use for learning patterns\n",
        "def preprocess_data(data):\n",
        "  le = LabelEncoder() #Create LabelEncoder object\n",
        "  X_encoded = le.fit_transform(data['pattern']) #map the category with numerical labels\n",
        "\n",
        "  #a case when we need to add more feature, set None for now\n",
        "  X_other_features = None\n",
        "\n",
        "  #Combine features\n",
        "  if X_other_features is not None:\n",
        "    X = np.hstack((X_encoded.reshape(-1,1), X_other_features))\n",
        "  else:\n",
        "    X=X_encoded.reshape(-1,1) #reshape to ensure correct format in all rows and single column\n",
        "  return X\n"
      ]
    },
    {
      "cell_type": "code",
      "execution_count": 22,
      "metadata": {
        "id": "VbRB8L70hfDg"
      },
      "outputs": [],
      "source": [
        "#Preprocess training and testing data\n",
        "X_train_processed = preprocess_data(X_train.copy())\n",
        "X_test_processed = preprocess_data(X_test.copy())"
      ]
    },
    {
      "cell_type": "code",
      "execution_count": 23,
      "metadata": {
        "id": "UjoEEuvTh0s9"
      },
      "outputs": [],
      "source": [
        "#Define thresholds to categorize mutation score\n",
        "low_threshold = 25\n",
        "medium_threshold = 75\n",
        "\n",
        "#Map mutation score for categories\n",
        "def map_to_category(score):\n",
        "  if score is np.NaN:\n",
        "    return \"NA\"\n",
        "  elif score < low_threshold:\n",
        "    return \"low\"\n",
        "  elif score < medium_threshold:\n",
        "    return \"medium\"\n",
        "  else:\n",
        "    return \"high\""
      ]
    },
    {
      "cell_type": "code",
      "execution_count": 2,
      "metadata": {
        "colab": {
          "base_uri": "https://localhost:8080/"
        },
        "id": "mRt5-CuxiOni",
        "outputId": "b7496dfb-de76-4b99-ad7a-3ac46b4c9ecc"
      },
      "outputs": [
        {
          "ename": "NameError",
          "evalue": "name 'y_train' is not defined",
          "output_type": "error",
          "traceback": [
            "\u001b[0;31m---------------------------------------------------------------------------\u001b[0m",
            "\u001b[0;31mNameError\u001b[0m                                 Traceback (most recent call last)",
            "Cell \u001b[0;32mIn[2], line 2\u001b[0m\n\u001b[1;32m      1\u001b[0m \u001b[38;5;66;03m#Convert mutation scores to categories for training\u001b[39;00m\n\u001b[0;32m----> 2\u001b[0m y_train_categories \u001b[38;5;241m=\u001b[39m [map_to_category(score) \u001b[38;5;28;01mfor\u001b[39;00m score \u001b[38;5;129;01min\u001b[39;00m \u001b[43my_train\u001b[49m]\n\u001b[1;32m      3\u001b[0m \u001b[38;5;28mprint\u001b[39m(y_train_categories)\n",
            "\u001b[0;31mNameError\u001b[0m: name 'y_train' is not defined"
          ]
        }
      ],
      "source": [
        "#Convert mutation scores to categories for training\n",
        "y_train_categories = [map_to_category(score) for score in y_train]\n",
        "print(y_train_categories)"
      ]
    },
    {
      "cell_type": "code",
      "execution_count": 25,
      "metadata": {
        "id": "P8W3nFCUiyl7"
      },
      "outputs": [],
      "source": [
        "#Test data with RandomForestClassifier() since we want to classify mutation in three score categories \"low\", \"medium\", \"high\"\n",
        "\n",
        "from sklearn.ensemble import RandomForestClassifier"
      ]
    },
    {
      "cell_type": "code",
      "execution_count": 26,
      "metadata": {
        "colab": {
          "base_uri": "https://localhost:8080/",
          "height": 51
        },
        "id": "TiTnvB3EjXdC",
        "outputId": "ba37cd9a-213f-4357-f038-9bbb88e7704a"
      },
      "outputs": [
        {
          "data": {
            "text/html": [
              "<style>#sk-container-id-1 {color: black;}#sk-container-id-1 pre{padding: 0;}#sk-container-id-1 div.sk-toggleable {background-color: white;}#sk-container-id-1 label.sk-toggleable__label {cursor: pointer;display: block;width: 100%;margin-bottom: 0;padding: 0.3em;box-sizing: border-box;text-align: center;}#sk-container-id-1 label.sk-toggleable__label-arrow:before {content: \"▸\";float: left;margin-right: 0.25em;color: #696969;}#sk-container-id-1 label.sk-toggleable__label-arrow:hover:before {color: black;}#sk-container-id-1 div.sk-estimator:hover label.sk-toggleable__label-arrow:before {color: black;}#sk-container-id-1 div.sk-toggleable__content {max-height: 0;max-width: 0;overflow: hidden;text-align: left;background-color: #f0f8ff;}#sk-container-id-1 div.sk-toggleable__content pre {margin: 0.2em;color: black;border-radius: 0.25em;background-color: #f0f8ff;}#sk-container-id-1 input.sk-toggleable__control:checked~div.sk-toggleable__content {max-height: 200px;max-width: 100%;overflow: auto;}#sk-container-id-1 input.sk-toggleable__control:checked~label.sk-toggleable__label-arrow:before {content: \"▾\";}#sk-container-id-1 div.sk-estimator input.sk-toggleable__control:checked~label.sk-toggleable__label {background-color: #d4ebff;}#sk-container-id-1 div.sk-label input.sk-toggleable__control:checked~label.sk-toggleable__label {background-color: #d4ebff;}#sk-container-id-1 input.sk-hidden--visually {border: 0;clip: rect(1px 1px 1px 1px);clip: rect(1px, 1px, 1px, 1px);height: 1px;margin: -1px;overflow: hidden;padding: 0;position: absolute;width: 1px;}#sk-container-id-1 div.sk-estimator {font-family: monospace;background-color: #f0f8ff;border: 1px dotted black;border-radius: 0.25em;box-sizing: border-box;margin-bottom: 0.5em;}#sk-container-id-1 div.sk-estimator:hover {background-color: #d4ebff;}#sk-container-id-1 div.sk-parallel-item::after {content: \"\";width: 100%;border-bottom: 1px solid gray;flex-grow: 1;}#sk-container-id-1 div.sk-label:hover label.sk-toggleable__label {background-color: #d4ebff;}#sk-container-id-1 div.sk-serial::before {content: \"\";position: absolute;border-left: 1px solid gray;box-sizing: border-box;top: 0;bottom: 0;left: 50%;z-index: 0;}#sk-container-id-1 div.sk-serial {display: flex;flex-direction: column;align-items: center;background-color: white;padding-right: 0.2em;padding-left: 0.2em;position: relative;}#sk-container-id-1 div.sk-item {position: relative;z-index: 1;}#sk-container-id-1 div.sk-parallel {display: flex;align-items: stretch;justify-content: center;background-color: white;position: relative;}#sk-container-id-1 div.sk-item::before, #sk-container-id-1 div.sk-parallel-item::before {content: \"\";position: absolute;border-left: 1px solid gray;box-sizing: border-box;top: 0;bottom: 0;left: 50%;z-index: -1;}#sk-container-id-1 div.sk-parallel-item {display: flex;flex-direction: column;z-index: 1;position: relative;background-color: white;}#sk-container-id-1 div.sk-parallel-item:first-child::after {align-self: flex-end;width: 50%;}#sk-container-id-1 div.sk-parallel-item:last-child::after {align-self: flex-start;width: 50%;}#sk-container-id-1 div.sk-parallel-item:only-child::after {width: 0;}#sk-container-id-1 div.sk-dashed-wrapped {border: 1px dashed gray;margin: 0 0.4em 0.5em 0.4em;box-sizing: border-box;padding-bottom: 0.4em;background-color: white;}#sk-container-id-1 div.sk-label label {font-family: monospace;font-weight: bold;display: inline-block;line-height: 1.2em;}#sk-container-id-1 div.sk-label-container {text-align: center;}#sk-container-id-1 div.sk-container {/* jupyter's `normalize.less` sets `[hidden] { display: none; }` but bootstrap.min.css set `[hidden] { display: none !important; }` so we also need the `!important` here to be able to override the default hidden behavior on the sphinx rendered scikit-learn.org. See: https://github.com/scikit-learn/scikit-learn/issues/21755 */display: inline-block !important;position: relative;}#sk-container-id-1 div.sk-text-repr-fallback {display: none;}</style><div id=\"sk-container-id-1\" class=\"sk-top-container\"><div class=\"sk-text-repr-fallback\"><pre>RandomForestClassifier()</pre><b>In a Jupyter environment, please rerun this cell to show the HTML representation or trust the notebook. <br />On GitHub, the HTML representation is unable to render, please try loading this page with nbviewer.org.</b></div><div class=\"sk-container\" hidden><div class=\"sk-item\"><div class=\"sk-estimator sk-toggleable\"><input class=\"sk-toggleable__control sk-hidden--visually\" id=\"sk-estimator-id-1\" type=\"checkbox\" checked><label for=\"sk-estimator-id-1\" class=\"sk-toggleable__label sk-toggleable__label-arrow\">RandomForestClassifier</label><div class=\"sk-toggleable__content\"><pre>RandomForestClassifier()</pre></div></div></div></div></div>"
            ],
            "text/plain": [
              "RandomForestClassifier()"
            ]
          },
          "execution_count": 26,
          "metadata": {},
          "output_type": "execute_result"
        }
      ],
      "source": [
        "model = RandomForestClassifier()\n",
        "model.fit(X_train_processed,y_train_categories)\n"
      ]
    },
    {
      "cell_type": "code",
      "execution_count": 27,
      "metadata": {
        "colab": {
          "base_uri": "https://localhost:8080/"
        },
        "id": "GNG1V193kOUO",
        "outputId": "7b5f67c1-d8c4-4c2f-9f0d-a0386df79122"
      },
      "outputs": [
        {
          "name": "stdout",
          "output_type": "stream",
          "text": [
            "['high' 'high' 'high' 'high' 'high' 'high' 'high' 'high' 'high' 'high'\n",
            " 'high' 'high' 'high' 'high' 'high' 'high' 'high' 'high' 'high' 'high'\n",
            " 'high' 'high' 'high' 'high' 'high' 'high' 'high' 'high' 'high' 'high'\n",
            " 'high' 'high' 'high' 'high' 'high']\n"
          ]
        }
      ],
      "source": [
        "#Predict catagories on test set\n",
        "y_pred_categories = model.predict(X_test_processed)\n",
        "print(y_pred_categories)"
      ]
    },
    {
      "cell_type": "code",
      "execution_count": 28,
      "metadata": {
        "colab": {
          "base_uri": "https://localhost:8080/",
          "height": 321
        },
        "id": "hFY776TNkVkz",
        "outputId": "0b788653-37cf-4447-eedd-c5bd5fab2df2"
      },
      "outputs": [
        {
          "ename": "TypeError",
          "evalue": "'<' not supported between instances of 'numpy.str_' and 'int'",
          "output_type": "error",
          "traceback": [
            "\u001b[0;31m---------------------------------------------------------------------------\u001b[0m",
            "\u001b[0;31mTypeError\u001b[0m                                 Traceback (most recent call last)",
            "Cell \u001b[0;32mIn[28], line 2\u001b[0m\n\u001b[1;32m      1\u001b[0m \u001b[38;5;66;03m#Map predicted categories back to low_medium_high labels\u001b[39;00m\n\u001b[0;32m----> 2\u001b[0m y_pred_labels \u001b[38;5;241m=\u001b[39m \u001b[43m[\u001b[49m\u001b[43mmap_to_category\u001b[49m\u001b[43m(\u001b[49m\u001b[43mscore\u001b[49m\u001b[43m)\u001b[49m\u001b[43m \u001b[49m\u001b[38;5;28;43;01mfor\u001b[39;49;00m\u001b[43m \u001b[49m\u001b[43mscore\u001b[49m\u001b[43m \u001b[49m\u001b[38;5;129;43;01min\u001b[39;49;00m\u001b[43m \u001b[49m\u001b[43mmodel\u001b[49m\u001b[38;5;241;43m.\u001b[39;49m\u001b[43mpredict\u001b[49m\u001b[43m(\u001b[49m\u001b[43mX_test_processed\u001b[49m\u001b[43m)\u001b[49m\u001b[43m]\u001b[49m\n",
            "Cell \u001b[0;32mIn[28], line 2\u001b[0m, in \u001b[0;36m<listcomp>\u001b[0;34m(.0)\u001b[0m\n\u001b[1;32m      1\u001b[0m \u001b[38;5;66;03m#Map predicted categories back to low_medium_high labels\u001b[39;00m\n\u001b[0;32m----> 2\u001b[0m y_pred_labels \u001b[38;5;241m=\u001b[39m [\u001b[43mmap_to_category\u001b[49m\u001b[43m(\u001b[49m\u001b[43mscore\u001b[49m\u001b[43m)\u001b[49m \u001b[38;5;28;01mfor\u001b[39;00m score \u001b[38;5;129;01min\u001b[39;00m model\u001b[38;5;241m.\u001b[39mpredict(X_test_processed)]\n",
            "Cell \u001b[0;32mIn[23], line 9\u001b[0m, in \u001b[0;36mmap_to_category\u001b[0;34m(score)\u001b[0m\n\u001b[1;32m      7\u001b[0m \u001b[38;5;28;01mif\u001b[39;00m score \u001b[38;5;129;01mis\u001b[39;00m np\u001b[38;5;241m.\u001b[39mNaN:\n\u001b[1;32m      8\u001b[0m   \u001b[38;5;28;01mreturn\u001b[39;00m \u001b[38;5;124m\"\u001b[39m\u001b[38;5;124mNA\u001b[39m\u001b[38;5;124m\"\u001b[39m\n\u001b[0;32m----> 9\u001b[0m \u001b[38;5;28;01melif\u001b[39;00m \u001b[43mscore\u001b[49m\u001b[43m \u001b[49m\u001b[38;5;241;43m<\u001b[39;49m\u001b[43m \u001b[49m\u001b[43mlow_threshold\u001b[49m:\n\u001b[1;32m     10\u001b[0m   \u001b[38;5;28;01mreturn\u001b[39;00m \u001b[38;5;124m\"\u001b[39m\u001b[38;5;124mlow\u001b[39m\u001b[38;5;124m\"\u001b[39m\n\u001b[1;32m     11\u001b[0m \u001b[38;5;28;01melif\u001b[39;00m score \u001b[38;5;241m<\u001b[39m medium_threshold:\n",
            "\u001b[0;31mTypeError\u001b[0m: '<' not supported between instances of 'numpy.str_' and 'int'"
          ]
        }
      ],
      "source": [
        "#Map predicted categories back to low_medium_high labels\n",
        "y_pred_labels = [map_to_category(score) for score in model.predict(X_test_processed)]"
      ]
    }
  ],
  "metadata": {
    "colab": {
      "provenance": []
    },
    "kernelspec": {
      "display_name": "Python 3",
      "name": "python3"
    },
    "language_info": {
      "codemirror_mode": {
        "name": "ipython",
        "version": 3
      },
      "file_extension": ".py",
      "mimetype": "text/x-python",
      "name": "python",
      "nbconvert_exporter": "python",
      "pygments_lexer": "ipython3",
      "version": "3.11.1"
    }
  },
  "nbformat": 4,
  "nbformat_minor": 0
}
